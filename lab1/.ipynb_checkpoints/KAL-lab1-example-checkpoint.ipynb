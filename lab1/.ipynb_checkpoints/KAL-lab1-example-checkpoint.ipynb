{
 "cells": [
  {
   "cell_type": "markdown",
   "metadata": {},
   "source": [
    "# Lab 1\n",
    "\n",
    "## Kristen Larson\n",
    "\n",
    "Jim, your comments are *not* necessary.  Attend to students first.  I'm looking to figure out the git pull..."
   ]
  },
  {
   "cell_type": "code",
   "execution_count": 2,
   "metadata": {
    "collapsed": true
   },
   "outputs": [],
   "source": [
    "''' \n",
    "Let's import the Python modules we'll need for this example!\n",
    "This normally goes at the top of your script or notebook, so that all code \n",
    "below it can see these packages.\n",
    "\n",
    "By the way, the triple-quotes give you blocks of comments\n",
    "'''\n",
    "# while the pound (or hash) symbol just comments things\n",
    "\n",
    "%matplotlib inline\n",
    "import numpy as np\n",
    "import matplotlib.pyplot as plt"
   ]
  },
  {
   "cell_type": "code",
   "execution_count": 3,
   "metadata": {
    "collapsed": false
   },
   "outputs": [],
   "source": [
    "# Let's read some data in\n",
    "\n",
    "# file from: http://ds.iris.edu/ds/products/emc-prem/\n",
    "# based on Dziewonski & Anderson (1981) http://adsabs.harvard.edu/abs/1981PEPI...25..297D\n",
    "file = 'PREM_1s.csv'\n",
    "radius, density = np.loadtxt(file, delimiter=',', usecols=(0,2), comments='#', unpack=True)"
   ]
  },
  {
   "cell_type": "code",
   "execution_count": 4,
   "metadata": {
    "collapsed": false
   },
   "outputs": [
    {
     "data": {
      "text/plain": [
       "array([ 6371. ,  6370. ,  6369. ,  6368. ,  6368. ,  6367. ,  6366. ,\n",
       "        6365. ,  6364. ,  6363. ,  6362. ,  6361. ,  6360. ,  6359. ,\n",
       "        6358. ,  6357. ,  6356. ,  6356. ,  6355. ,  6354. ,  6353. ,\n",
       "        6352. ,  6351. ,  6350. ,  6349. ,  6348. ,  6346.6,  6346.6,\n",
       "        6346. ,  6345. ,  6344. ,  6343. ,  6342. ,  6341. ,  6340. ,\n",
       "        6339. ,  6338. ,  6337. ,  6336. ,  6331. ,  6326. ,  6321. ,\n",
       "        6311. ,  6301. ,  6291. ,  6291. ,  6281. ,  6271. ,  6261. ,\n",
       "        6251. ,  6241. ,  6231. ,  6221. ,  6211. ,  6201. ,  6191. ,\n",
       "        6181. ,  6171. ,  6161. ,  6151. ,  6151. ,  6141. ,  6131. ,\n",
       "        6121. ,  6111. ,  6101. ,  6091. ,  6081. ,  6071. ,  6061. ,\n",
       "        6051. ,  6041. ,  6031. ,  6021. ,  6011. ,  6001. ,  5991. ,\n",
       "        5981. ,  5971. ,  5971. ,  5961. ,  5951. ,  5941. ,  5931. ,\n",
       "        5921. ,  5911. ,  5901. ,  5891. ,  5881. ,  5871. ,  5861. ,\n",
       "        5851. ,  5841. ,  5831. ,  5821. ,  5811. ,  5801. ,  5791. ,\n",
       "        5781. ,  5771. ,  5771. ,  5761. ,  5751. ,  5741. ,  5731. ,\n",
       "        5721. ,  5711. ,  5701. ,  5701. ,  5685.7,  5635.7,  5600. ,\n",
       "        5600. ,  5585.7,  5535.7,  5485.7,  5435.7,  5385.7,  5335.7,\n",
       "        5285.7,  5235.7,  5185.7,  5135.7,  5085.7,  5035.7,  4985.7,\n",
       "        4935.7,  4885.7,  4835.7,  4785.7,  4735.7,  4685.7,  4635.7,\n",
       "        4585.7,  4535.7,  4485.7,  4435.7,  4385.7,  4335.7,  4285.7,\n",
       "        4235.7,  4185.7,  4135.7,  4085.7,  4035.7,  3985.7,  3935.7,\n",
       "        3885.7,  3835.7,  3785.7,  3735.7,  3685.7,  3635.7,  3630. ,\n",
       "        3630. ,  3585.7,  3535.7,  3485.7,  3480. ,  3480. ,  3400. ,\n",
       "        3300. ,  3200. ,  3100. ,  3000. ,  2900. ,  2800. ,  2700. ,\n",
       "        2600. ,  2500. ,  2400. ,  2300. ,  2221.5,  2200. ,  2100. ,\n",
       "        2000. ,  1900. ,  1800. ,  1700. ,  1600. ,  1500. ,  1400. ,\n",
       "        1300. ,  1221.5,  1221.5,  1217.1,  1200. ,  1100. ,  1000. ,\n",
       "         900. ,   800. ,   700. ,   600. ,   500. ,   400. ,   300. ,\n",
       "         200. ,   100. ,     0. ])"
      ]
     },
     "execution_count": 4,
     "metadata": {},
     "output_type": "execute_result"
    }
   ],
   "source": [
    "radius"
   ]
  },
  {
   "cell_type": "code",
   "execution_count": 5,
   "metadata": {
    "collapsed": false
   },
   "outputs": [
    {
     "data": {
      "text/plain": [
       "array([  1.02   ,   1.02   ,   1.02   ,   1.02   ,   2.6    ,   2.6    ,\n",
       "         2.6    ,   2.6    ,   2.6    ,   2.6    ,   2.6    ,   2.6    ,\n",
       "         2.6    ,   2.6    ,   2.6    ,   2.6    ,   2.6    ,   2.9    ,\n",
       "         2.9    ,   2.9    ,   2.9    ,   2.9    ,   2.9    ,   2.9    ,\n",
       "         2.9    ,   2.9    ,   2.9    ,   3.38075,   3.38068,   3.38057,\n",
       "         3.38047,   3.38036,   3.38025,   3.38014,   3.38003,   3.37992,\n",
       "         3.37981,   3.3797 ,   3.3796 ,   3.37905,   3.37851,   3.37797,\n",
       "         3.37688,   3.37579,   3.37471,   3.37471,   3.37362,   3.37253,\n",
       "         3.37145,   3.37036,   3.36927,   3.36818,   3.3671 ,   3.36601,\n",
       "         3.36492,   3.36384,   3.36275,   3.36166,   3.36058,   3.35949,\n",
       "         3.43577,   3.44175,   3.44772,   3.45369,   3.45966,   3.46563,\n",
       "         3.4716 ,   3.47758,   3.48355,   3.48952,   3.49549,   3.50146,\n",
       "         3.50743,   3.51341,   3.51938,   3.52535,   3.53132,   3.53729,\n",
       "         3.54326,   3.72375,   3.73635,   3.74895,   3.76156,   3.77416,\n",
       "         3.78677,   3.79937,   3.81197,   3.82458,   3.83718,   3.84978,\n",
       "         3.86239,   3.87499,   3.88759,   3.9002 ,   3.9128 ,   3.92541,\n",
       "         3.93801,   3.95061,   3.96322,   3.97582,   3.97582,   3.97815,\n",
       "         3.98048,   3.98281,   3.98514,   3.98746,   3.98979,   3.99212,\n",
       "         4.38074,   4.39029,   4.42128,   4.4432 ,   4.4432 ,   4.45194,\n",
       "         4.48228,   4.51232,   4.54206,   4.5715 ,   4.60067,   4.62956,\n",
       "         4.65819,   4.68656,   4.71469,   4.74259,   4.77025,   4.7977 ,\n",
       "         4.82493,   4.85196,   4.87881,   4.90547,   4.93195,   4.95827,\n",
       "         4.98443,   5.01045,   5.03633,   5.06208,   5.0877 ,   5.11322,\n",
       "         5.13863,   5.16395,   5.18919,   5.21434,   5.23944,   5.26447,\n",
       "         5.28945,   5.3144 ,   5.33931,   5.3642 ,   5.38908,   5.41395,\n",
       "         5.43883,   5.46372,   5.48863,   5.49148,   5.49148,   5.51358,\n",
       "         5.53856,   5.5636 ,   5.56646,   9.90344,  10.02942,  10.18136,\n",
       "        10.32727,  10.46729,  10.60153,  10.73013,  10.85322,  10.97092,\n",
       "        11.08336,  11.19067,  11.29298,  11.39042,  11.46358,  11.48311,\n",
       "        11.57119,  11.65478,  11.73401,  11.809  ,  11.87989,  11.94681,\n",
       "        12.00988,  12.06923,  12.12499,  12.16633,  12.76361,  12.76595,\n",
       "        12.77495,  12.82503,  12.87076,  12.91213,  12.94914,  12.98181,\n",
       "        13.01011,  13.03406,  13.05366,  13.0689 ,  13.07979,  13.08632,\n",
       "        13.0885 ])"
      ]
     },
     "execution_count": 5,
     "metadata": {},
     "output_type": "execute_result"
    }
   ],
   "source": [
    "density"
   ]
  },
  {
   "cell_type": "code",
   "execution_count": 6,
   "metadata": {
    "collapsed": false
   },
   "outputs": [
    {
     "data": {
      "text/plain": [
       "<matplotlib.text.Text at 0x10affa590>"
      ]
     },
     "execution_count": 6,
     "metadata": {},
     "output_type": "execute_result"
    },
    {
     "data": {
      "image/png": "[encoded data removed]",
      "text/plain": [
       "<matplotlib.figure.Figure at 0x103761910>"
      ]
     },
     "metadata": {},
     "output_type": "display_data"
    }
   ],
   "source": [
    "# Now let's plot these data\n",
    "plt.plot(radius, density)\n",
    "plt.xlabel('Radius (km)')\n",
    "plt.ylabel('Density (g/cm$^3$)')"
   ]
  },
  {
   "cell_type": "markdown",
   "metadata": {},
   "source": [
    "## Goal:\n",
    "At what radial step do you enclose half of the Earth's mass?\n",
    "\n",
    "We all know the formula for the mass of a sphere:\n",
    "$ M = \\frac{4}{3} \\pi R^3 \\times \\rho $\n",
    "\n",
    "Note that the density here is provided in *shells* of radius, so you need to add them as you go.\n",
    "\n",
    "$ M_i = \\frac{4}{3} \\pi (R_{i+1}^3 - R_i^3) \\times \\rho_i $\n"
   ]
  },
  {
   "cell_type": "code",
   "execution_count": 11,
   "metadata": {
    "collapsed": false
   },
   "outputs": [
    {
     "data": {
      "text/plain": [
       "199"
      ]
     },
     "execution_count": 11,
     "metadata": {},
     "output_type": "execute_result"
    }
   ],
   "source": [
    "radius.size"
   ]
  },
  {
   "cell_type": "code",
   "execution_count": 37,
   "metadata": {
    "collapsed": false
   },
   "outputs": [],
   "source": [
    "\n",
    "M = np.zeros(radius.size)\n",
    "\n",
    "# loop over these, and save something in each one\n",
    "\n",
    "for i in range(1,radius.size-1):\n",
    "    M[i] = 4.0*np.pi*( (radius[i-1])**3.0-(radius[i])**3.0)*density[i]*1.0E12/3.0"
   ]
  },
  {
   "cell_type": "code",
   "execution_count": 47,
   "metadata": {
    "collapsed": false
   },
   "outputs": [
    {
     "data": {
      "text/plain": [
       "<matplotlib.text.Text at 0x10c839bd0>"
      ]
     },
     "execution_count": 47,
     "metadata": {},
     "output_type": "execute_result"
    },
    {
     "data": {
      "image/png": "[encoded data removed]",
      "text/plain": [
       "<matplotlib.figure.Figure at 0x10c8cf0d0>"
      ]
     },
     "metadata": {},
     "output_type": "display_data"
    }
   ],
   "source": [
    "plt.plot(radius,M)\n",
    "plt.ylabel('Mass in each shell (kg)')\n",
    "plt.xlabel('Radius (km)')"
   ]
  },
  {
   "cell_type": "markdown",
   "metadata": {},
   "source": [
    "The zeros are because some of the shells have the same radius on both sides."
   ]
  },
  {
   "cell_type": "code",
   "execution_count": 40,
   "metadata": {
    "collapsed": false
   },
   "outputs": [],
   "source": [
    "M_Earth=5.9E24\n",
    "M_total=0.0\n",
    "i=1\n",
    "\n",
    "while M_total<0.5*M_Earth:\n",
    "    M_total+=M[i]\n",
    "    i+=1"
   ]
  },
  {
   "cell_type": "code",
   "execution_count": 43,
   "metadata": {
    "collapsed": false
   },
   "outputs": [
    {
     "name": "stdout",
     "output_type": "stream",
     "text": [
      "4435.7 2.97283493067e+24\n"
     ]
    }
   ],
   "source": [
    "print radius[i],M_total"
   ]
  },
  {
   "cell_type": "code",
   "execution_count": null,
   "metadata": {
    "collapsed": false
   },
   "outputs": [],
   "source": []
  },
  {
   "cell_type": "code",
   "execution_count": null,
   "metadata": {
    "collapsed": true
   },
   "outputs": [],
   "source": []
  },
  {
   "cell_type": "code",
   "execution_count": null,
   "metadata": {
    "collapsed": false
   },
   "outputs": [],
   "source": []
  },
  {
   "cell_type": "code",
   "execution_count": null,
   "metadata": {
    "collapsed": true
   },
   "outputs": [],
   "source": []
  },
  {
   "cell_type": "code",
   "execution_count": null,
   "metadata": {
    "collapsed": true
   },
   "outputs": [],
   "source": []
  }
 ],
 "metadata": {
  "kernelspec": {
   "display_name": "Python 2",
   "language": "python",
   "name": "python2"
  },
  "language_info": {
   "codemirror_mode": {
    "name": "ipython",
    "version": 2
   },
   "file_extension": ".py",
   "mimetype": "text/x-python",
   "name": "python",
   "nbconvert_exporter": "python",
   "pygments_lexer": "ipython2",
   "version": "2.7.3"
  }
 },
 "nbformat": 4,
 "nbformat_minor": 0
}
