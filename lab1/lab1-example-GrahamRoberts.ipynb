{
 "metadata": {
  "kernelspec": {
   "display_name": "Python 2",
   "language": "python",
   "name": "python2"
  },
  "language_info": {
   "codemirror_mode": {
    "name": "ipython",
    "version": 2
   },
   "file_extension": ".py",
   "mimetype": "text/x-python",
   "name": "python",
   "nbconvert_exporter": "python",
   "pygments_lexer": "ipython2",
   "version": "2.7.10"
  },
  "name": "",
  "signature": "sha256:1cdbbdc33f9a4c821edc9405f22cf39fbd892fd87ba3979d3868037a0b3b74fb"
 },
 "nbformat": 3,
 "nbformat_minor": 0,
 "worksheets": [
  {
   "cells": [
    {
     "cell_type": "markdown",
     "metadata": {},
     "source": [
      "# Lab 1\n",
      "\n",
      "## Markdown Cells\n",
      "\n",
      "This is a [Markdown](https://en.wikipedia.org/wiki/Markdown) cell. You can use them to write *nicely* formatted text, describing what you are doing in the Jupyter notebook."
     ]
    },
    {
     "cell_type": "code",
     "collapsed": true,
     "input": [
      "''' \n",
      "Let's import the Python modules we'll need for this example!\n",
      "This normally goes at the top of your script or notebook, so that all code below it can see these packages.\n",
      "\n",
      "By the way, the triple-quotes give you blocks of comments\n",
      "'''\n",
      "# while the pound (or hash) symbol just comments things\n",
      "\n",
      "%matplotlib inline\n",
      "import numpy as np\n",
      "import matplotlib.pyplot as plt"
     ],
     "language": "python",
     "metadata": {},
     "outputs": [],
     "prompt_number": 2
    },
    {
     "cell_type": "code",
     "collapsed": false,
     "input": [
      "# Let's read some data in\n",
      "\n",
      "# file from: http://ds.iris.edu/ds/products/emc-prem/\n",
      "# based on Dziewonski & Anderson (1981) http://adsabs.harvard.edu/abs/1981PEPI...25..297D\n",
      "file = 'PREM_1s.csv'\n",
      "radius, density = np.loadtxt(file, delimiter=',', usecols=(0,2), comments='#', unpack=True)"
     ],
     "language": "python",
     "metadata": {},
     "outputs": [],
     "prompt_number": 3
    },
    {
     "cell_type": "code",
     "collapsed": false,
     "input": [
      "print radius\n",
      "len(radius)"
     ],
     "language": "python",
     "metadata": {},
     "outputs": [
      {
       "output_type": "stream",
       "stream": "stdout",
       "text": [
        "[ 6371.   6370.   6369.   6368.   6368.   6367.   6366.   6365.   6364.\n",
        "  6363.   6362.   6361.   6360.   6359.   6358.   6357.   6356.   6356.\n",
        "  6355.   6354.   6353.   6352.   6351.   6350.   6349.   6348.   6346.6\n",
        "  6346.6  6346.   6345.   6344.   6343.   6342.   6341.   6340.   6339.\n",
        "  6338.   6337.   6336.   6331.   6326.   6321.   6311.   6301.   6291.\n",
        "  6291.   6281.   6271.   6261.   6251.   6241.   6231.   6221.   6211.\n",
        "  6201.   6191.   6181.   6171.   6161.   6151.   6151.   6141.   6131.\n",
        "  6121.   6111.   6101.   6091.   6081.   6071.   6061.   6051.   6041.\n",
        "  6031.   6021.   6011.   6001.   5991.   5981.   5971.   5971.   5961.\n",
        "  5951.   5941.   5931.   5921.   5911.   5901.   5891.   5881.   5871.\n",
        "  5861.   5851.   5841.   5831.   5821.   5811.   5801.   5791.   5781.\n",
        "  5771.   5771.   5761.   5751.   5741.   5731.   5721.   5711.   5701.\n",
        "  5701.   5685.7  5635.7  5600.   5600.   5585.7  5535.7  5485.7  5435.7\n",
        "  5385.7  5335.7  5285.7  5235.7  5185.7  5135.7  5085.7  5035.7  4985.7\n",
        "  4935.7  4885.7  4835.7  4785.7  4735.7  4685.7  4635.7  4585.7  4535.7\n",
        "  4485.7  4435.7  4385.7  4335.7  4285.7  4235.7  4185.7  4135.7  4085.7\n",
        "  4035.7  3985.7  3935.7  3885.7  3835.7  3785.7  3735.7  3685.7  3635.7\n",
        "  3630.   3630.   3585.7  3535.7  3485.7  3480.   3480.   3400.   3300.\n",
        "  3200.   3100.   3000.   2900.   2800.   2700.   2600.   2500.   2400.\n",
        "  2300.   2221.5  2200.   2100.   2000.   1900.   1800.   1700.   1600.\n",
        "  1500.   1400.   1300.   1221.5  1221.5  1217.1  1200.   1100.   1000.\n",
        "   900.    800.    700.    600.    500.    400.    300.    200.    100.\n",
        "     0. ]\n"
       ]
      },
      {
       "metadata": {},
       "output_type": "pyout",
       "prompt_number": 6,
       "text": [
        "199"
       ]
      }
     ],
     "prompt_number": 6
    },
    {
     "cell_type": "code",
     "collapsed": false,
     "input": [
      "print density\n",
      "len(density)"
     ],
     "language": "python",
     "metadata": {},
     "outputs": [
      {
       "output_type": "stream",
       "stream": "stdout",
       "text": [
        "[  1.02      1.02      1.02      1.02      2.6       2.6       2.6       2.6\n",
        "   2.6       2.6       2.6       2.6       2.6       2.6       2.6       2.6\n",
        "   2.6       2.9       2.9       2.9       2.9       2.9       2.9       2.9\n",
        "   2.9       2.9       2.9       3.38075   3.38068   3.38057   3.38047\n",
        "   3.38036   3.38025   3.38014   3.38003   3.37992   3.37981   3.3797\n",
        "   3.3796    3.37905   3.37851   3.37797   3.37688   3.37579   3.37471\n",
        "   3.37471   3.37362   3.37253   3.37145   3.37036   3.36927   3.36818\n",
        "   3.3671    3.36601   3.36492   3.36384   3.36275   3.36166   3.36058\n",
        "   3.35949   3.43577   3.44175   3.44772   3.45369   3.45966   3.46563\n",
        "   3.4716    3.47758   3.48355   3.48952   3.49549   3.50146   3.50743\n",
        "   3.51341   3.51938   3.52535   3.53132   3.53729   3.54326   3.72375\n",
        "   3.73635   3.74895   3.76156   3.77416   3.78677   3.79937   3.81197\n",
        "   3.82458   3.83718   3.84978   3.86239   3.87499   3.88759   3.9002\n",
        "   3.9128    3.92541   3.93801   3.95061   3.96322   3.97582   3.97582\n",
        "   3.97815   3.98048   3.98281   3.98514   3.98746   3.98979   3.99212\n",
        "   4.38074   4.39029   4.42128   4.4432    4.4432    4.45194   4.48228\n",
        "   4.51232   4.54206   4.5715    4.60067   4.62956   4.65819   4.68656\n",
        "   4.71469   4.74259   4.77025   4.7977    4.82493   4.85196   4.87881\n",
        "   4.90547   4.93195   4.95827   4.98443   5.01045   5.03633   5.06208\n",
        "   5.0877    5.11322   5.13863   5.16395   5.18919   5.21434   5.23944\n",
        "   5.26447   5.28945   5.3144    5.33931   5.3642    5.38908   5.41395\n",
        "   5.43883   5.46372   5.48863   5.49148   5.49148   5.51358   5.53856\n",
        "   5.5636    5.56646   9.90344  10.02942  10.18136  10.32727  10.46729\n",
        "  10.60153  10.73013  10.85322  10.97092  11.08336  11.19067  11.29298\n",
        "  11.39042  11.46358  11.48311  11.57119  11.65478  11.73401  11.809\n",
        "  11.87989  11.94681  12.00988  12.06923  12.12499  12.16633  12.76361\n",
        "  12.76595  12.77495  12.82503  12.87076  12.91213  12.94914  12.98181\n",
        "  13.01011  13.03406  13.05366  13.0689   13.07979  13.08632  13.0885 ]\n"
       ]
      },
      {
       "metadata": {},
       "output_type": "pyout",
       "prompt_number": 7,
       "text": [
        "199"
       ]
      }
     ],
     "prompt_number": 7
    },
    {
     "cell_type": "code",
     "collapsed": false,
     "input": [
      "# Now let's plot these data\n",
      "plt.plot(radius, density)\n",
      "plt.xlabel('Radius (km)')\n",
      "plt.ylabel('Density (g/cm$^3$)')"
     ],
     "language": "python",
     "metadata": {},
     "outputs": [
      {
       "metadata": {},
       "output_type": "pyout",
       "prompt_number": 8,
       "text": [
        "<matplotlib.text.Text at 0x1059b48d0>"
       ]
      },
      {
       "metadata": {},
       "output_type": "display_data",
       "png": "[encoded data removed]",
       "text": [
        "<matplotlib.figure.Figure at 0x105ab1050>"
       ]
      }
     ],
     "prompt_number": 8
    },
    {
     "cell_type": "markdown",
     "metadata": {},
     "source": [
      "## Goal:\n",
      "At what radial step do you enclose half of the Earth's mass?\n",
      "\n",
      "We all know the formula for the mass of a sphere:\n",
      "$ M = \\frac{4}{3} \\pi R^3 \\times \\rho $\n",
      "\n",
      "Note that the density here is provided in *shells* of radius, so you need to add them as you go.\n",
      "\n",
      "$ M_i = \\frac{4}{3} \\pi (R_{i+1}^3 - R_i^3) \\times \\rho_i $\n"
     ]
    },
    {
     "cell_type": "code",
     "collapsed": false,
     "input": [
      "mass=[(-radius[i+1]**3+radius[i]**3)*density[i] for i in range(len(density)-1)]+[0]\n",
      "#mass=mass*((4./3.)*np.pi)\n",
      "mult=np.pi*(4000./3.)*10**9\n",
      "mass=np.multiply(mass,mult)\n",
      "#print np.sum(mass)\n",
      "gre=np.where(np.cumsum(mass)>np.sum(mass)/2.)[0]\n",
      "print \"half of the earths mass is within {0}km of the center of the earth\".format(radius[int(min(gre))])\n",
      "#print radius[0]"
     ],
     "language": "python",
     "metadata": {},
     "outputs": [
      {
       "output_type": "stream",
       "stream": "stdout",
       "text": [
        "half of the earths mass is within 4485.7km of the center of the earth\n"
       ]
      }
     ],
     "prompt_number": 62
    },
    {
     "cell_type": "code",
     "collapsed": false,
     "input": [
      "plt.plot(x)"
     ],
     "language": "python",
     "metadata": {},
     "outputs": [
      {
       "ename": "NameError",
       "evalue": "name 'x' is not defined",
       "output_type": "pyerr",
       "traceback": [
        "\u001b[1;31m---------------------------------------------------------------------------\u001b[0m\n\u001b[1;31mNameError\u001b[0m                                 Traceback (most recent call last)",
        "\u001b[1;32m<ipython-input-63-b179422cae23>\u001b[0m in \u001b[0;36m<module>\u001b[1;34m()\u001b[0m\n\u001b[1;32m----> 1\u001b[1;33m \u001b[0mplt\u001b[0m\u001b[1;33m.\u001b[0m\u001b[0mplot\u001b[0m\u001b[1;33m(\u001b[0m\u001b[0mx\u001b[0m\u001b[1;33m)\u001b[0m\u001b[1;33m\u001b[0m\u001b[0m\n\u001b[0m",
        "\u001b[1;31mNameError\u001b[0m: name 'x' is not defined"
       ]
      }
     ],
     "prompt_number": 63
    },
    {
     "cell_type": "code",
     "collapsed": false,
     "input": [
      "z = np.where((x > 8000))\n",
      "num = np.arange(0,100)\n",
      "\n",
      "plt.plot(num, x)\n",
      "plt.scatter(num[z], x[z], c='red', lw=0)"
     ],
     "language": "python",
     "metadata": {},
     "outputs": [
      {
       "ename": "NameError",
       "evalue": "name 'x' is not defined",
       "output_type": "pyerr",
       "traceback": [
        "\u001b[1;31m---------------------------------------------------------------------------\u001b[0m\n\u001b[1;31mNameError\u001b[0m                                 Traceback (most recent call last)",
        "\u001b[1;32m<ipython-input-64-0dde28181220>\u001b[0m in \u001b[0;36m<module>\u001b[1;34m()\u001b[0m\n\u001b[1;32m----> 1\u001b[1;33m \u001b[0mz\u001b[0m \u001b[1;33m=\u001b[0m \u001b[0mnp\u001b[0m\u001b[1;33m.\u001b[0m\u001b[0mwhere\u001b[0m\u001b[1;33m(\u001b[0m\u001b[1;33m(\u001b[0m\u001b[0mx\u001b[0m \u001b[1;33m>\u001b[0m \u001b[1;36m8000\u001b[0m\u001b[1;33m)\u001b[0m\u001b[1;33m)\u001b[0m\u001b[1;33m\u001b[0m\u001b[0m\n\u001b[0m\u001b[0;32m      2\u001b[0m \u001b[0mnum\u001b[0m \u001b[1;33m=\u001b[0m \u001b[0mnp\u001b[0m\u001b[1;33m.\u001b[0m\u001b[0marange\u001b[0m\u001b[1;33m(\u001b[0m\u001b[1;36m0\u001b[0m\u001b[1;33m,\u001b[0m\u001b[1;36m100\u001b[0m\u001b[1;33m)\u001b[0m\u001b[1;33m\u001b[0m\u001b[0m\n\u001b[0;32m      3\u001b[0m \u001b[1;33m\u001b[0m\u001b[0m\n\u001b[0;32m      4\u001b[0m \u001b[0mplt\u001b[0m\u001b[1;33m.\u001b[0m\u001b[0mplot\u001b[0m\u001b[1;33m(\u001b[0m\u001b[0mnum\u001b[0m\u001b[1;33m,\u001b[0m \u001b[0mx\u001b[0m\u001b[1;33m)\u001b[0m\u001b[1;33m\u001b[0m\u001b[0m\n\u001b[0;32m      5\u001b[0m \u001b[0mplt\u001b[0m\u001b[1;33m.\u001b[0m\u001b[0mscatter\u001b[0m\u001b[1;33m(\u001b[0m\u001b[0mnum\u001b[0m\u001b[1;33m[\u001b[0m\u001b[0mz\u001b[0m\u001b[1;33m]\u001b[0m\u001b[1;33m,\u001b[0m \u001b[0mx\u001b[0m\u001b[1;33m[\u001b[0m\u001b[0mz\u001b[0m\u001b[1;33m]\u001b[0m\u001b[1;33m,\u001b[0m \u001b[0mc\u001b[0m\u001b[1;33m=\u001b[0m\u001b[1;34m'red'\u001b[0m\u001b[1;33m,\u001b[0m \u001b[0mlw\u001b[0m\u001b[1;33m=\u001b[0m\u001b[1;36m0\u001b[0m\u001b[1;33m)\u001b[0m\u001b[1;33m\u001b[0m\u001b[0m\n",
        "\u001b[1;31mNameError\u001b[0m: name 'x' is not defined"
       ]
      }
     ],
     "prompt_number": 64
    },
    {
     "cell_type": "code",
     "collapsed": false,
     "input": [
      "print len(radius)\n",
      "print len(mass)\n",
      "plt.plot(radius,mass)\n"
     ],
     "language": "python",
     "metadata": {},
     "outputs": [
      {
       "output_type": "stream",
       "stream": "stdout",
       "text": [
        "199\n",
        "199\n"
       ]
      },
      {
       "metadata": {},
       "output_type": "pyout",
       "prompt_number": 65,
       "text": [
        "[<matplotlib.lines.Line2D at 0x7f245f61da90>]"
       ]
      },
      {
       "metadata": {},
       "output_type": "display_data",
       "png": "[encoded data removed]",
       "text": [
        "<matplotlib.figure.Figure at 0x7f245f53a290>"
       ]
      }
     ],
     "prompt_number": 65
    },
    {
     "cell_type": "code",
     "collapsed": false,
     "input": [
      "plt.plot(radius,np.cumsum(mass))"
     ],
     "language": "python",
     "metadata": {},
     "outputs": [
      {
       "metadata": {},
       "output_type": "pyout",
       "prompt_number": 66,
       "text": [
        "[<matplotlib.lines.Line2D at 0x7f245f49f8d0>]"
       ]
      },
      {
       "metadata": {},
       "output_type": "display_data",
       "png": "[encoded data removed]",
       "text": [
        "<matplotlib.figure.Figure at 0x7f245f5d8dd0>"
       ]
      }
     ],
     "prompt_number": 66
    },
    {
     "cell_type": "code",
     "collapsed": false,
     "input": [],
     "language": "python",
     "metadata": {},
     "outputs": [],
     "prompt_number": 66
    },
    {
     "cell_type": "code",
     "collapsed": false,
     "input": [],
     "language": "python",
     "metadata": {},
     "outputs": []
    }
   ],
   "metadata": {}
  }
 ]
}