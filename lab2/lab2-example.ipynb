{
 "cells": [
  {
   "cell_type": "markdown",
   "metadata": {},
   "source": [
    "# Algorithms 1: Do Something!\n",
    "\n",
    "Today's exercise is to make a piece of code that completes a useful task, but write it as generalized as possible to be reusable for other people (including Future You)!"
   ]
  },
  {
   "cell_type": "code",
   "execution_count": 37,
   "metadata": {
    "collapsed": true
   },
   "outputs": [],
   "source": [
    "%matplotlib inline\n",
    "import numpy as np\n",
    "import matplotlib.pyplot as plt"
   ]
  },
  {
   "cell_type": "markdown",
   "metadata": {},
   "source": [
    "## Documentation\n",
    "\n",
    "A \"Docstring\" is required for every function you write. Otherwise you will forget what it does and how it does it!\n",
    "\n",
    "One very common docstring format is the \"[NumPy/SciPy](https://github.com/numpy/numpy/blob/master/doc/HOWTO_DOCUMENT.rst.txt)\" standard:\n",
    "\n",
    "Below is a working function with a valid docstring as an example:"
   ]
  },
  {
   "cell_type": "code",
   "execution_count": 38,
   "metadata": {
    "collapsed": true
   },
   "outputs": [],
   "source": [
    "def MyFunc(arg1, arg2, kwarg1=5.0):\n",
    "    '''\n",
    "    This is a function to calculate the number of quatloos required\n",
    "    to reverse the polarity of a neutron flow.\n",
    "    \n",
    "    Parameters\n",
    "    ----------\n",
    "    arg1 : float\n",
    "        How many bleeps per blorp\n",
    "    arg2 : float\n",
    "        The foo/bar parameter\n",
    "    kwarg1 : float, optional\n",
    "        The quatloo to gold-pressed-latinum exchange rate\n",
    "    Returns\n",
    "    -------\n",
    "    float\n",
    "        A specific resultification index\n",
    "    '''\n",
    "    \n",
    "    if kwarg1 > 5.0:\n",
    "        print(\"wow, that's a lot of quatloos...\")\n",
    "\n",
    "    # this is the classical formula we learn in grade school\n",
    "    output = arg1 + arg2 * kwarg1\n",
    "        \n",
    "    return output"
   ]
  },
  {
   "cell_type": "code",
   "execution_count": 39,
   "metadata": {
    "collapsed": false
   },
   "outputs": [
    {
     "name": "stdout",
     "output_type": "stream",
     "text": [
      "wow, that's a lot of quatloos...\n"
     ]
    }
   ],
   "source": [
    "# how to use the function\n",
    "x = MyFunc(7,8, kwarg1=9.2)"
   ]
  },
  {
   "cell_type": "code",
   "execution_count": 40,
   "metadata": {
    "collapsed": false
   },
   "outputs": [
    {
     "name": "stdout",
     "output_type": "stream",
     "text": [
      "80.6\n"
     ]
    }
   ],
   "source": [
    "# Check out the function's result\n",
    "print(x)"
   ]
  },
  {
   "cell_type": "code",
   "execution_count": 51,
   "metadata": {
    "collapsed": false
   },
   "outputs": [],
   "source": [
    "#convert Kelvin to Fahrenheit\n",
    "# YOUR FUNCTION HERE\n",
    "\n",
    "def K2F(Temp, KtoF = True):\n",
    "    '''\n",
    "    This function converts temperatures from Kelven to Fahrenheit or vice versa.\n",
    "    \n",
    "    Parameters\n",
    "    ----------\n",
    "    Temp: float\n",
    "        Entered temperature value.\n",
    "        \n",
    "    KtoF: boolean, optional\n",
    "        Determines order of conversion.\n",
    "    \n",
    "    '''\n",
    "    if Temp<0:\n",
    "        print('Error: Please enter a valid temperature')\n",
    "    \n",
    "        \n",
    "    if KtoF == False:\n",
    "        K = (Temp+459.67)*(5/9)\n",
    "        \n",
    "        return K \n",
    "        print('K')\n",
    "        \n",
    "    if KtoF == True:\n",
    "        F = (Temp)*(9/5)-459.67\n",
    "        \n",
    "        return F \n",
    "    \n",
    "    \n"
   ]
  },
  {
   "cell_type": "code",
   "execution_count": 53,
   "metadata": {
    "collapsed": false
   },
   "outputs": [
    {
     "name": "stdout",
     "output_type": "stream",
     "text": [
      "272.0388888888889\n"
     ]
    }
   ],
   "source": [
    "x = K2F(30, KtoF = False)\n",
    "\n",
    "print (x)"
   ]
  },
  {
   "cell_type": "markdown",
   "metadata": {},
   "source": [
    "Here's the goal:\n",
    "\n",
    "**Which constellation is a given point in?**\n",
    "\n",
    "This is the detailed constellation boundary lines data:\n",
    "http://vizier.cfa.harvard.edu/viz-bin/Cat?cat=VI%2F49\n",
    "\n",
    "You could use this data and do the full \"Ray Casting\" approach, or even cheat using matpltlib functions!\n",
    "http://stackoverflow.com/a/23453678\n",
    "\n",
    "\n",
    "A simplified approach from [Roman 1987](http://cdsads.u-strasbg.fr/abs/1987PASP...99..695R):\n",
    "http://vizier.cfa.harvard.edu/viz-bin/Cat?VI/42#sRM2.1"
   ]
  },
  {
   "cell_type": "code",
   "execution_count": 67,
   "metadata": {
    "collapsed": false,
    "scrolled": false
   },
   "outputs": [],
   "source": [
    "# This is a sloppy way to read in the floats for the coordinates, and then the strings for the constellation names.\n",
    "RAl, RAu, Decl = np.loadtxt('data/data.txt', delimiter=',', usecols=(0,1,2), unpack=True)\n",
    "names = np.loadtxt('data/data.txt', delimiter=',', usecols=(3,), unpack=True, dtype='str')"
   ]
  },
  {
   "cell_type": "code",
   "execution_count": 98,
   "metadata": {
    "collapsed": false
   },
   "outputs": [],
   "source": [
    "def roman(RA,Dec):\n",
    "    \n",
    "    count1 = 0\n",
    "    count2 = 0\n",
    "    count3 = 0\n",
    "    \n",
    "    while (Dec < Decl[count1]):\n",
    "        count1 = count1+1\n",
    "        if Decl[count1] <= Dec:\n",
    "            x = Decl[count1]\n",
    "    \n",
    "    while (RA > RAl[count2]):\n",
    "        count2 = count2+1\n",
    "        if RAl[count2] <= RA:\n",
    "            y = RAl[count2]\n",
    "    \n",
    "    while (RA < RAu[count3]):\n",
    "        count3 = count3+1\n",
    "        if RAu[count3] <= RA:\n",
    "            z = RAu[count3]\n",
    "    \n",
    "    if RAu[x][y][z]\n",
    "    \n",
    "            \n",
    "\n",
    "  "
   ]
  },
  {
   "cell_type": "code",
   "execution_count": 102,
   "metadata": {
    "collapsed": false
   },
   "outputs": [
    {
     "data": {
      "text/plain": [
       "(36.75, 24.0, 0.0)"
      ]
     },
     "execution_count": 102,
     "metadata": {},
     "output_type": "execute_result"
    }
   ],
   "source": [
    "n = roman(18.62,38.78)\n",
    "n"
   ]
  },
  {
   "cell_type": "code",
   "execution_count": 101,
   "metadata": {
    "collapsed": false
   },
   "outputs": [
    {
     "data": {
      "text/plain": [
       "\"b'UMI'\""
      ]
     },
     "execution_count": 101,
     "metadata": {},
     "output_type": "execute_result"
    }
   ],
   "source": [
    "names[0]"
   ]
  },
  {
   "cell_type": "code",
   "execution_count": null,
   "metadata": {
    "collapsed": true
   },
   "outputs": [],
   "source": []
  }
 ],
 "metadata": {
  "kernelspec": {
   "display_name": "Python 3",
   "language": "python",
   "name": "python3"
  },
  "language_info": {
   "codemirror_mode": {
    "name": "ipython",
    "version": 3
   },
   "file_extension": ".py",
   "mimetype": "text/x-python",
   "name": "python",
   "nbconvert_exporter": "python",
   "pygments_lexer": "ipython3",
   "version": "3.5.1"
  }
 },
 "nbformat": 4,
 "nbformat_minor": 0
}
