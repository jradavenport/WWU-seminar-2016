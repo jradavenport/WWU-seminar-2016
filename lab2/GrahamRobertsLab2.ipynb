{
 "metadata": {
  "name": "",
  "signature": "sha256:0b8bc72fdd34d0d55e05bfd188948ad2a3b587d0fbc60b44abe09db704b983d5"
 },
 "nbformat": 3,
 "nbformat_minor": 0,
 "worksheets": [
  {
   "cells": [
    {
     "cell_type": "code",
     "collapsed": false,
     "input": [
      "import numpy as np\n"
     ],
     "language": "python",
     "metadata": {},
     "outputs": [],
     "prompt_number": 1
    },
    {
     "cell_type": "code",
     "collapsed": false,
     "input": [
      "# This is a sloppy way to read in the floats for the coordinates, and then the strings for the constellation names.\n",
      "RAl, RAu, Decl = np.loadtxt('data/data.txt', delimiter=',', usecols=(0,1,2), unpack=True)\n",
      "names = np.loadtxt('data/data.txt', delimiter=',', usecols=(3,), unpack=True, dtype='str')\n"
     ],
     "language": "python",
     "metadata": {},
     "outputs": [],
     "prompt_number": 60
    },
    {
     "cell_type": "code",
     "collapsed": false,
     "input": [
      "def boundIndex(i, bound, array, lower=True):\n",
      "    if (lower==True):\n",
      "        while(i<len(array) and bound<array[i]):\n",
      "            i=i+1\n",
      "        if (i==len(array)):\n",
      "            print \"error bounds not in array\"\n",
      "            sys.exit()\n",
      "        return i\n",
      "    else:\n",
      "        while(i<len(array) and bound>=array[i]):\n",
      "            i=i+1\n",
      "        if (i==len(array)):\n",
      "            print \"error bounds not in array\"\n",
      "            sys.exit()\n",
      "        return i"
     ],
     "language": "python",
     "metadata": {},
     "outputs": [],
     "prompt_number": 61
    }
   ],
   "metadata": {}
  }
 ]
}