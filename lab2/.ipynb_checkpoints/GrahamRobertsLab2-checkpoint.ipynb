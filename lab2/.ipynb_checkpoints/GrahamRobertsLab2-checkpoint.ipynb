{
 "metadata": {
  "name": "",
  "signature": "sha256:c77033ee76e9a93ed5247665f98d30916cc7f9220636ce30c25d9d2254623568"
 },
 "nbformat": 3,
 "nbformat_minor": 0,
 "worksheets": []
}